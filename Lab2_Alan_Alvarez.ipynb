{
 "cells": [
  {
   "cell_type": "code",
   "execution_count": 16,
   "id": "fd9bc924-7a21-43b4-8572-ab2b326abe7a",
   "metadata": {},
   "outputs": [
    {
     "name": "stdout",
     "output_type": "stream",
     "text": [
      "('90210', '60601', '94102') \n",
      "Type <class 'tuple'>\n",
      "('94102', '90210', '60601') \n",
      "Type <class 'tuple'>\n"
     ]
    }
   ],
   "source": [
    "#Question 1a : Given a list of cities and their corresponding ZIP codes, extract the ZIP codes and organize them into a tuple. \n",
    "\n",
    "zipcode = {'90210':'Beverly Hills, CA', '60601': 'Chicago, IL', '94102':'San Francisco, CA'}\n",
    "extractzip = tuple(zipcode.keys())\n",
    "print(extractzip, \"\\nType\", type(extractzip))\n",
    "    \n",
    "#Question 1b: Rearrange the tuple in reverse order from 1a. \n",
    "zipreverse = sorted(extractzip, reverse=True)\n",
    "tuplereverse = tuple(zipreverse)\n",
    "print(tuplereverse, \"\\nType\", type(tuplereverse))"
   ]
  },
  {
   "cell_type": "code",
   "execution_count": 18,
   "id": "0119a72c-2b26-469e-a8f2-e0b36b62935f",
   "metadata": {},
   "outputs": [
    {
     "name": "stdout",
     "output_type": "stream",
     "text": [
      "<re.Match object; span=(55, 61), match='apples'>\n",
      "The starting and ending position for 'apples': (55, 61)\n"
     ]
    }
   ],
   "source": [
    "# question 2 : Here is a list of groceries. The user needs help extracting the text \"apples\" and placing the text \"apples\" into the sentence below.\n",
    "#  Please use regular expressions. ( regex ) \n",
    "import re  \n",
    "random_text = \"Milk, eggs, bread, butter, cheese, fresh fruits (e.g., apples, bananas), fresh vegetables (e.g., lettuce, tomatoes), rice, pasta, canned tomatoes, chicken breasts or thighs, ground beef or turkey, cooking oil (e.g., olive oil), spices (e.g., salt, pepper), snacks (e.g., chips, nuts)\" \n",
    "#from https://randomwordgenerator.com/sentence.php 😀\n",
    "search_apple = re.search(\"apples\", random_text)\n",
    "print(search_apple)\n",
    "\n",
    "#What is the starting and ending position of the text \"apples\" in random_text? Paste below 👇 \n",
    "print(\"The starting and ending position for 'apples':\", search_apple.span())\n"
   ]
  },
  {
   "cell_type": "code",
   "execution_count": 2,
   "id": "bae211a8-20d1-44c2-97bf-5ed98fc4cd74",
   "metadata": {},
   "outputs": [
    {
     "data": {
      "text/plain": [
       "['2 (9&quot;) pie crusts',\n",
       " '7 large Granny Smith apples (peeled, cored and sliced into 1/2 inch slices)',\n",
       " '1/2 cup granulated sugar',\n",
       " '1/2 cup light brown sugar (loosely packed)',\n",
       " '2 tablespoons all-purpose flour',\n",
       " '1 teaspoon ground cinnamon',\n",
       " '1/8 teaspoon ground nutmeg',\n",
       " '1 tablespoon lemon juice (plus the zest of half of a lemon)',\n",
       " '1 large egg (lightly beaten in a small bowl for egg wash)',\n",
       " '2 tablespoons sanding sugar (optional)']"
      ]
     },
     "execution_count": 2,
     "metadata": {},
     "output_type": "execute_result"
    }
   ],
   "source": [
    "# question 3 : \n",
    "#I have a link to a recipe for making apple pie, perfect for celebrating Pi Day. \n",
    "#I'm seeking assistance with extracting the 'recipeIngredient' section from the website. \n",
    "#A helpful hint is that we could utilize the 'json' module for this task.\n",
    "from bs4 import BeautifulSoup\n",
    "from urllib.request import Request, urlopen\n",
    "import json\n",
    "# help you get started\n",
    "site= \"https://littlespoonfarm.com/apple-pie-recipe/\" # happy PI day \n",
    "hdr = {'User-Agent': 'Mozilla/5.0'}\n",
    "req = Request(site, headers=hdr)\n",
    "page = urlopen(req)\n",
    "soup = BeautifulSoup(page)\n",
    "#Extracting embedded json objects\n",
    "json_scripts = soup.find_all('script', type='application/ld+json')\n",
    "json_data = [json.loads(script.text, strict=False) for script in json_scripts] \n",
    "json_data\n",
    "#Extracting 'recipeIngredient'\n",
    "json_data[0]['@graph'][13]['recipeIngredient']\n"
   ]
  },
  {
   "cell_type": "code",
   "execution_count": 20,
   "id": "96c51918-ae9b-493a-9803-88087a586dad",
   "metadata": {},
   "outputs": [
    {
     "name": "stdout",
     "output_type": "stream",
     "text": [
      "<class 'set'>\n",
      "Only even numbers from setA: {-70, -60, 36, 74, 42, -52, 12, -20, -82, 18, -46, -14, 88, -38}\n",
      "Only odd number from setB: {-95, -31, -29, 69, 41, 91, 79, -67, 17, -13, -73, 25, 27, -35, 63}\n",
      "Intersection: {9, 2, 5, 6}\n"
     ]
    }
   ],
   "source": [
    "# question 4 :\n",
    "# Here are two sets \n",
    "#4a: Create a code for the user who wants to extract only even numbers from setA.\n",
    "setA = {-82, 45, -27, 69, -14, 83, 57, -91, 36, -3, 18, -60, 74, -38, 5, -70, 29, 91, -52, 12, -46, 63, -9, 42, 77, -65, 21, -37, 88, -20}\n",
    "\n",
    "even_only = {num for num in setA if num %2==0}\n",
    "print(\"Only even numbers from setA:\", even_only)\n",
    "             \n",
    "#Create a code for the user who wants to extract only odd numbers from setB.\n",
    "setB = {-88, 17, -42, 69, -31, 58, 74, -95, 25, -13, 36, -67, 82, -50, 41, -73, 6, 91, -29, 52, -84, 27, -20, 63, 79, -58, 12, -35, 88, -16}\n",
    "\n",
    "odd_only = {num for num in setB if num %2 ==1}\n",
    "print(\"Only odd number from setB:\", odd_only)\n",
    "\n",
    "      \n",
    "#4c: Find the intersection between set2 and set3.\n",
    "\n",
    "set2 = {1,2,4,5,6,7,8,9}\n",
    "set3 = {2,9,5,6,15,13}\n",
    "\n",
    "print(\"Intersection:\", set2.intersection(set3)) \n",
    "\n"
   ]
  },
  {
   "cell_type": "code",
   "execution_count": 22,
   "id": "39186245-0a7e-48c4-b0e5-c0b2e8cdb8ed",
   "metadata": {},
   "outputs": [],
   "source": [
    "# Question 5\n",
    "#Upload your completed lab to your GitHub and submit the link to your Git Hub account.\n",
    "\n",
    "#Link to my Git Hub account: https://github.com/117alan/IST4320  "
   ]
  },
  {
   "cell_type": "code",
   "execution_count": null,
   "id": "53586478-1112-4f36-bb3c-1d3be322617e",
   "metadata": {},
   "outputs": [],
   "source": []
  }
 ],
 "metadata": {
  "kernelspec": {
   "display_name": "Python 3 (ipykernel)",
   "language": "python",
   "name": "python3"
  },
  "language_info": {
   "codemirror_mode": {
    "name": "ipython",
    "version": 3
   },
   "file_extension": ".py",
   "mimetype": "text/x-python",
   "name": "python",
   "nbconvert_exporter": "python",
   "pygments_lexer": "ipython3",
   "version": "3.10.6"
  }
 },
 "nbformat": 4,
 "nbformat_minor": 5
}
